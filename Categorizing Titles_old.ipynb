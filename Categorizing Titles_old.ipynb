{
 "cells": [
  {
   "cell_type": "code",
   "execution_count": 2,
   "metadata": {},
   "outputs": [],
   "source": [
    "import numpy as np \n",
    "import json as json\n",
    "import glob as glob\n",
    "import zipfile as zipfile\n",
    "import json as json\n",
    "import pandas as pd \n",
    "from IPython.display import display\n",
    "import matplotlib.pyplot as plt\n",
    "import seaborn as sns\n",
    "%matplotlib inline\n",
    "import pandas as pd\n",
    "import numpy as np"
   ]
  },
  {
   "cell_type": "code",
   "execution_count": 3,
   "metadata": {
    "collapsed": true
   },
   "outputs": [],
   "source": [
    "pd.set_option('display.max_colwidth', -1)\n",
    "\n",
    "pd.set_option('display.max_rows', 1000)"
   ]
  },
  {
   "cell_type": "code",
   "execution_count": 4,
   "metadata": {},
   "outputs": [
    {
     "name": "stdout",
     "output_type": "stream",
     "text": [
      "<class 'pandas.core.frame.DataFrame'>\n",
      "RangeIndex: 3368 entries, 0 to 3367\n",
      "Data columns (total 3 columns):\n",
      "resolut    3368 non-null object\n",
      "descr      3368 non-null object\n",
      "vote       3368 non-null object\n",
      "dtypes: object(3)\n",
      "memory usage: 79.0+ KB\n"
     ]
    }
   ],
   "source": [
    "data = pd.read_csv('data_final.csv',error_bad_lines=False)\n",
    "\n",
    "data.info()"
   ]
  },
  {
   "cell_type": "code",
   "execution_count": 5,
   "metadata": {},
   "outputs": [
    {
     "data": {
      "text/plain": [
       "3348"
      ]
     },
     "execution_count": 5,
     "metadata": {},
     "output_type": "execute_result"
    }
   ],
   "source": [
    "data['resolut'].nunique()"
   ]
  },
  {
   "cell_type": "code",
   "execution_count": 6,
   "metadata": {},
   "outputs": [
    {
     "data": {
      "text/html": [
       "<div>\n",
       "<style>\n",
       "    .dataframe thead tr:only-child th {\n",
       "        text-align: right;\n",
       "    }\n",
       "\n",
       "    .dataframe thead th {\n",
       "        text-align: left;\n",
       "    }\n",
       "\n",
       "    .dataframe tbody tr th {\n",
       "        vertical-align: top;\n",
       "    }\n",
       "</style>\n",
       "<table border=\"1\" class=\"dataframe\">\n",
       "  <thead>\n",
       "    <tr style=\"text-align: right;\">\n",
       "      <th></th>\n",
       "      <th>resolut</th>\n",
       "      <th>descr</th>\n",
       "      <th>vote</th>\n",
       "    </tr>\n",
       "  </thead>\n",
       "  <tbody>\n",
       "    <tr>\n",
       "      <th>0</th>\n",
       "      <td>A/RES/49/243</td>\n",
       "      <td>Accreditation of non-governmental organizations to the 4th World Conference on Women</td>\n",
       "      <td>AFGHANISTAN,  ALBANIA, Y ALGERIA, Y ANDORRA,  ANGOLA,  ANTIGUA AND BARBUDA, Y ARGENTINA, Y ARMENIA, Y AUSTRALIA, Y AUSTRIA, Y AZERBAIJAN,  BAHAMAS,  BAHRAIN, Y BANGLADESH, Y BARBADOS, Y BELARUS, Y BELGIUM,  BELIZE, Y BENIN, Y BHUTAN, Y BOLIVIA,  BOSNIA AND HERZEGOVINA,  BOTSWANA, Y BRAZIL,  BRUNEI DARUSSALAM, Y BULGARIA,  BURKINA FASO,  BURUNDI, Y CAMBODIA,  CAMEROON, Y CANADA,  CAPE VERDE,  CENTRAL AFRICAN REPUBLIC,  CHAD, Y CHILE, A CHINA, Y COLOMBIA,  COMOROS,  CONGO,  COSTA RICA, Y COTE D'IVOIRE,  CROATIA,  CUBA, Y CYPRUS,  CZECH REPUBLIC,  DEMOCRATIC PEOPLE'S REPUBLIC OF KOREA, Y DENMARK,  DJIBOUTI,  DOMINICA,  DOMINICAN REPUBLIC, Y ECUADOR,  EGYPT,  EL SALVADOR,  EQUATORIAL GUINEA,  ERITREA, Y ESTONIA,  ETHIOPIA,  FIJI, Y FINLAND, Y FRANCE, Y GABON,  GAMBIA,  GEORGIA, Y GERMANY,  GHANA, Y GREECE,  GRENADA,  GUATEMALA,  GUINEA,  GUINEA-BISSAU, Y GUYANA,  HAITI, Y HONDURAS, Y HUNGARY, Y ICELAND, Y INDIA,  INDONESIA, Y IRAN (ISLAMIC REPUBLIC OF),  IRAQ, Y IRELAND,  ISRAEL, Y ITALY, Y JAMAICA, Y JAPAN,  JORDAN,  THE REPUBLIC OF KAZAKHSTAN, Y KENYA, Y KUWAIT,  KYRGYZSTAN,  LAO PEOPLE'S DEMOCRATIC REPUBLIC, Y LATVIA,  LEBANON, Y LESOTHO,  LIBERIA,  LIBYAN ARAB JAMAHIRIYA, Y LIECHTENSTEIN, Y LITHUANIA, Y LUXEMBOURG, Y MADAGASCAR,  MALAWI,  MALAYSIA, Y MALDIVES,  MALI, Y MALTA,  MARSHALL ISLANDS,  MAURITANIA,  MAURITIUS, Y MEXICO,  MICRONESIA (FEDERATED STATES OF), Y MONACO,  MONGOLIA, Y MOROCCO,  MOZAMBIQUE,  MYANMAR,  NAMIBIA, Y NEPAL, Y NETHERLANDS, Y NEW ZEALAND,  NICARAGUA,  NIGER, Y NIGERIA, Y NORWAY,  OMAN, Y PAKISTAN,  PALAU, Y PANAMA,  PAPUA NEW GUINEA,  PARAGUAY, Y PERU, Y PHILIPPINES, Y POLAND, Y PORTUGAL,  QATAR,  REPUBLIC OF KOREA,  REPUBLIC OF MOLDOVA, Y ROMANIA, Y RUSSIAN FEDERATION,  RWANDA,  SAINT KITTS AND NEVIS,  SAINT LUCIA,  SAINT VINCENT AND THE GRENADINES,  SAMOA, Y SAN MARINO,  SAO TOME AND PRINCIPE,  SAUDI ARABIA,  SENEGAL,  SEYCHELLES,  SIERRA LEONE, Y SINGAPORE, Y SLOVAKIA, Y SLOVENIA,  SOLOMON ISLANDS,  SOMALIA, Y SOUTH AFRICA, Y SPAIN,  SRI LANKA,  SUDAN, Y SURINAME,  SWAZILAND, Y SWEDEN,  SYRIAN ARAB REPUBLIC,  TAJIKISTAN, Y THAILAND, Y THE FORMER YUGOSLAV REPUBLIC OF MACEDONIA, Y TOGO,  TRINIDAD AND TOBAGO, Y TUNISIA, Y TURKEY,  TURKMENISTAN,  UGANDA, Y UKRAINE,  UNITED ARAB EMIRATES, Y UNITED KINGDOM,  UNITED REPUBLIC OF TANZANIA, Y UNITED STATES, Y URUGUAY,  UZBEKISTAN,  VANUATU, Y VENEZUELA (BOLIVARIAN REPUBLIC OF), Y VIET NAM,  YEMEN,  YUGOSLAVIA,  DEMOCRATIC REPUBLIC OF THE CONGO,  ZAMBIA, Y ZIMBABWE,Export,\\n</td>\n",
       "    </tr>\n",
       "    <tr>\n",
       "      <th>1</th>\n",
       "      <td>A/RES/44/240</td>\n",
       "      <td>Effects of the military intervention by the United States of America in Panama on the situation in Central America</td>\n",
       "      <td>Y AFGHANISTAN, Y ALBANIA, Y ALGERIA, Y ANGOLA, A ANTIGUA AND BARBUDA, Y ARGENTINA, N AUSTRALIA, Y AUSTRIA,  BAHAMAS, A BAHRAIN,  BANGLADESH, Y BARBADOS, N BELGIUM, Y BELIZE,  BENIN, Y BHUTAN, Y BOLIVIA, Y BOTSWANA, Y BRAZIL, A BRUNEI DARUSSALAM, Y BULGARIA, Y BURKINA FASO, Y BURUNDI, Y BELARUS,  CAMEROON, N CANADA, A CAPE VERDE, A CENTRAL AFRICAN REPUBLIC, A CHAD, Y CHILE, Y CHINA, Y COLOMBIA,  COMOROS, Y CONGO, A COSTA RICA,  COTE D'IVOIRE, Y CUBA, Y CYPRUS, Y CZECHOSLOVAKIA,  CAMBODIA, Y DEMOCRATIC YEMEN, N DENMARK,  DJIBOUTI, N DOMINICA,  DOMINICAN REPUBLIC, Y ECUADOR, A EGYPT, N EL SALVADOR, Y EQUATORIAL GUINEA, Y ETHIOPIA, A FIJI, Y FINLAND, N FRANCE,  GABON,  GAMBIA, Y GERMAN DEMOCRATIC REPUBLIC, N GERMANY, FEDERAL REPUBLIC OF, Y GHANA, A GREECE, A GRENADA, Y GUATEMALA, Y GUINEA,  GUINEA-BISSAU, Y GUYANA, Y HAITI, A HONDURAS, Y HUNGARY, A ICELAND, Y INDIA, Y INDONESIA, Y IRAN (ISLAMIC REPUBLIC OF), Y IRAQ, A IRELAND, N ISRAEL, N ITALY, Y JAMAICA, N JAPAN, Y JORDAN, A KENYA, Y KUWAIT, Y LAO PEOPLE'S DEMOCRATIC REPUBLIC, A LEBANON,  LESOTHO, A LIBERIA, Y LIBYAN ARAB JAMAHIRIYA, N LUXEMBOURG, A MADAGASCAR, A MALAWI, Y MALAYSIA,  MALDIVES, Y MALI, A MALTA,  MAURITANIA, Y MAURITIUS, Y MEXICO, Y MONGOLIA, A MOROCCO,  MOZAMBIQUE, Y MYANMAR, Y NEPAL, N NETHERLANDS, N NEW ZEALAND, Y NICARAGUA, A NIGER,  NIGERIA, N NORWAY, A OMAN, Y PAKISTAN, N PANAMA, A PAPUA NEW GUINEA, Y PARAGUAY, Y PERU, A PHILIPPINES, A POLAND, N PORTUGAL, A QATAR, Y ROMANIA, A RWANDA,  SAINT KITTS AND NEVIS, A SAINT LUCIA, A SAINT VINCENT AND THE GRENADINES, A SAMOA,  SAO TOME AND PRINCIPE, A SAUDI ARABIA,  SENEGAL,  SEYCHELLES,  SIERRA LEONE, A SINGAPORE, Y SOLOMON ISLANDS, A SOMALIA,  SOUTH AFRICA, Y SPAIN, Y SRI LANKA, Y SUDAN, Y SURINAME,  SWAZILAND, Y SWEDEN, Y SYRIAN ARAB REPUBLIC, A THAILAND, A TOGO, Y TRINIDAD AND TOBAGO, A TUNISIA, N TURKEY, Y UGANDA, Y UKRAINE, Y USSR, A UNITED ARAB EMIRATES, N UNITED KINGDOM, Y UNITED REPUBLIC OF TANZANIA, N UNITED STATES, Y URUGUAY, Y VANUATU, Y VENEZUELA (BOLIVARIAN REPUBLIC OF), Y VIET NAM, A YEMEN, Y YUGOSLAVIA, A DEMOCRATIC REPUBLIC OF THE CONGO, Y ZAMBIA, Y ZIMBABWE,Export,\\n</td>\n",
       "    </tr>\n",
       "    <tr>\n",
       "      <th>2</th>\n",
       "      <td>A/RES/44/235</td>\n",
       "      <td>Assistance to the Palestinian people</td>\n",
       "      <td>Y AFGHANISTAN, Y ALBANIA, Y ALGERIA, Y ANGOLA, Y ANTIGUA AND BARBUDA, Y ARGENTINA, Y AUSTRALIA, Y AUSTRIA, Y BAHAMAS, Y BAHRAIN, Y BANGLADESH, Y BARBADOS, Y BELGIUM, Y BELIZE, Y BENIN, Y BHUTAN, Y BOLIVIA, Y BOTSWANA, Y BRAZIL, Y BRUNEI DARUSSALAM, Y BULGARIA, Y BURKINA FASO, Y BURUNDI, Y BELARUS, Y CAMEROON, A CANADA, Y CAPE VERDE, Y CENTRAL AFRICAN REPUBLIC, Y CHAD, Y CHILE, Y CHINA, Y COLOMBIA,  COMOROS, Y CONGO, Y COSTA RICA, Y COTE D'IVOIRE, Y CUBA, Y CYPRUS, Y CZECHOSLOVAKIA, Y CAMBODIA, Y DEMOCRATIC YEMEN, Y DENMARK, Y DJIBOUTI, Y DOMINICA, Y DOMINICAN REPUBLIC, Y ECUADOR, Y EGYPT, Y EL SALVADOR,  EQUATORIAL GUINEA, Y ETHIOPIA, Y FIJI, Y FINLAND, Y FRANCE, Y GABON, Y GAMBIA, Y GERMAN DEMOCRATIC REPUBLIC, Y GERMANY, FEDERAL REPUBLIC OF, Y GHANA, Y GREECE,  GRENADA, Y GUATEMALA, Y GUINEA, Y GUINEA-BISSAU, Y GUYANA, Y HAITI, Y HONDURAS, Y HUNGARY, Y ICELAND, Y INDIA, Y INDONESIA, Y IRAN (ISLAMIC REPUBLIC OF), Y IRAQ, Y IRELAND, N ISRAEL, Y ITALY, Y JAMAICA, Y JAPAN, Y JORDAN,  KENYA, Y KUWAIT, Y LAO PEOPLE'S DEMOCRATIC REPUBLIC, Y LEBANON, Y LESOTHO, Y LIBERIA, Y LIBYAN ARAB JAMAHIRIYA, Y LUXEMBOURG, Y MADAGASCAR, Y MALAWI, Y MALAYSIA, Y MALDIVES, Y MALI, Y MALTA, Y MAURITANIA, Y MAURITIUS, Y MEXICO, Y MONGOLIA, Y MOROCCO, Y MOZAMBIQUE, Y MYANMAR, Y NEPAL, Y NETHERLANDS, Y NEW ZEALAND, Y NICARAGUA, Y NIGER, Y NIGERIA, Y NORWAY, Y OMAN, Y PAKISTAN,  PANAMA, Y PAPUA NEW GUINEA,  PARAGUAY, Y PERU, Y PHILIPPINES, Y POLAND, Y PORTUGAL, Y QATAR, Y ROMANIA, Y RWANDA,  SAINT KITTS AND NEVIS, Y SAINT LUCIA, Y SAINT VINCENT AND THE GRENADINES, Y SAMOA, Y SAO TOME AND PRINCIPE, Y SAUDI ARABIA, Y SENEGAL,  SEYCHELLES, Y SIERRA LEONE, Y SINGAPORE, Y SOLOMON ISLANDS, Y SOMALIA,  SOUTH AFRICA, Y SPAIN, Y SRI LANKA, Y SUDAN, Y SURINAME,  SWAZILAND, Y SWEDEN, Y SYRIAN ARAB REPUBLIC, Y THAILAND, Y TOGO, Y TRINIDAD AND TOBAGO, Y TUNISIA, Y TURKEY, Y UGANDA, Y UKRAINE, Y USSR, Y UNITED ARAB EMIRATES, Y UNITED KINGDOM, Y UNITED REPUBLIC OF TANZANIA, N UNITED STATES, Y URUGUAY, Y VANUATU, Y VENEZUELA (BOLIVARIAN REPUBLIC OF), Y VIET NAM, Y YEMEN, Y YUGOSLAVIA, Y DEMOCRATIC REPUBLIC OF THE CONGO, Y ZAMBIA, Y ZIMBABWE,Export,\\n</td>\n",
       "    </tr>\n",
       "  </tbody>\n",
       "</table>\n",
       "</div>"
      ],
      "text/plain": [
       "        resolut  \\\n",
       "0  A/RES/49/243   \n",
       "1  A/RES/44/240   \n",
       "2  A/RES/44/235   \n",
       "\n",
       "                                                                                                                descr  \\\n",
       "0  Accreditation of non-governmental organizations to the 4th World Conference on Women                                 \n",
       "1  Effects of the military intervention by the United States of America in Panama on the situation in Central America   \n",
       "2  Assistance to the Palestinian people                                                                                 \n",
       "\n",
       "                                                                                                                                                                                                                                                                                                                                                                                                                                                                                                                                                                                                                                                                                                                                                                                                                                                                                                                                                                                                                                                                                                                                                                                                                                                                                                                                                                                                                                                                                                                                                                                                                                                                                                                                                                                                                                                                                                                                                                                                                                                                                                                                                                                                                                                                                                                                                                                                                                                                                                                                                                                                       vote  \n",
       "0   AFGHANISTAN,  ALBANIA, Y ALGERIA, Y ANDORRA,  ANGOLA,  ANTIGUA AND BARBUDA, Y ARGENTINA, Y ARMENIA, Y AUSTRALIA, Y AUSTRIA, Y AZERBAIJAN,  BAHAMAS,  BAHRAIN, Y BANGLADESH, Y BARBADOS, Y BELARUS, Y BELGIUM,  BELIZE, Y BENIN, Y BHUTAN, Y BOLIVIA,  BOSNIA AND HERZEGOVINA,  BOTSWANA, Y BRAZIL,  BRUNEI DARUSSALAM, Y BULGARIA,  BURKINA FASO,  BURUNDI, Y CAMBODIA,  CAMEROON, Y CANADA,  CAPE VERDE,  CENTRAL AFRICAN REPUBLIC,  CHAD, Y CHILE, A CHINA, Y COLOMBIA,  COMOROS,  CONGO,  COSTA RICA, Y COTE D'IVOIRE,  CROATIA,  CUBA, Y CYPRUS,  CZECH REPUBLIC,  DEMOCRATIC PEOPLE'S REPUBLIC OF KOREA, Y DENMARK,  DJIBOUTI,  DOMINICA,  DOMINICAN REPUBLIC, Y ECUADOR,  EGYPT,  EL SALVADOR,  EQUATORIAL GUINEA,  ERITREA, Y ESTONIA,  ETHIOPIA,  FIJI, Y FINLAND, Y FRANCE, Y GABON,  GAMBIA,  GEORGIA, Y GERMANY,  GHANA, Y GREECE,  GRENADA,  GUATEMALA,  GUINEA,  GUINEA-BISSAU, Y GUYANA,  HAITI, Y HONDURAS, Y HUNGARY, Y ICELAND, Y INDIA,  INDONESIA, Y IRAN (ISLAMIC REPUBLIC OF),  IRAQ, Y IRELAND,  ISRAEL, Y ITALY, Y JAMAICA, Y JAPAN,  JORDAN,  THE REPUBLIC OF KAZAKHSTAN, Y KENYA, Y KUWAIT,  KYRGYZSTAN,  LAO PEOPLE'S DEMOCRATIC REPUBLIC, Y LATVIA,  LEBANON, Y LESOTHO,  LIBERIA,  LIBYAN ARAB JAMAHIRIYA, Y LIECHTENSTEIN, Y LITHUANIA, Y LUXEMBOURG, Y MADAGASCAR,  MALAWI,  MALAYSIA, Y MALDIVES,  MALI, Y MALTA,  MARSHALL ISLANDS,  MAURITANIA,  MAURITIUS, Y MEXICO,  MICRONESIA (FEDERATED STATES OF), Y MONACO,  MONGOLIA, Y MOROCCO,  MOZAMBIQUE,  MYANMAR,  NAMIBIA, Y NEPAL, Y NETHERLANDS, Y NEW ZEALAND,  NICARAGUA,  NIGER, Y NIGERIA, Y NORWAY,  OMAN, Y PAKISTAN,  PALAU, Y PANAMA,  PAPUA NEW GUINEA,  PARAGUAY, Y PERU, Y PHILIPPINES, Y POLAND, Y PORTUGAL,  QATAR,  REPUBLIC OF KOREA,  REPUBLIC OF MOLDOVA, Y ROMANIA, Y RUSSIAN FEDERATION,  RWANDA,  SAINT KITTS AND NEVIS,  SAINT LUCIA,  SAINT VINCENT AND THE GRENADINES,  SAMOA, Y SAN MARINO,  SAO TOME AND PRINCIPE,  SAUDI ARABIA,  SENEGAL,  SEYCHELLES,  SIERRA LEONE, Y SINGAPORE, Y SLOVAKIA, Y SLOVENIA,  SOLOMON ISLANDS,  SOMALIA, Y SOUTH AFRICA, Y SPAIN,  SRI LANKA,  SUDAN, Y SURINAME,  SWAZILAND, Y SWEDEN,  SYRIAN ARAB REPUBLIC,  TAJIKISTAN, Y THAILAND, Y THE FORMER YUGOSLAV REPUBLIC OF MACEDONIA, Y TOGO,  TRINIDAD AND TOBAGO, Y TUNISIA, Y TURKEY,  TURKMENISTAN,  UGANDA, Y UKRAINE,  UNITED ARAB EMIRATES, Y UNITED KINGDOM,  UNITED REPUBLIC OF TANZANIA, Y UNITED STATES, Y URUGUAY,  UZBEKISTAN,  VANUATU, Y VENEZUELA (BOLIVARIAN REPUBLIC OF), Y VIET NAM,  YEMEN,  YUGOSLAVIA,  DEMOCRATIC REPUBLIC OF THE CONGO,  ZAMBIA, Y ZIMBABWE,Export,\\n                  \n",
       "1  Y AFGHANISTAN, Y ALBANIA, Y ALGERIA, Y ANGOLA, A ANTIGUA AND BARBUDA, Y ARGENTINA, N AUSTRALIA, Y AUSTRIA,  BAHAMAS, A BAHRAIN,  BANGLADESH, Y BARBADOS, N BELGIUM, Y BELIZE,  BENIN, Y BHUTAN, Y BOLIVIA, Y BOTSWANA, Y BRAZIL, A BRUNEI DARUSSALAM, Y BULGARIA, Y BURKINA FASO, Y BURUNDI, Y BELARUS,  CAMEROON, N CANADA, A CAPE VERDE, A CENTRAL AFRICAN REPUBLIC, A CHAD, Y CHILE, Y CHINA, Y COLOMBIA,  COMOROS, Y CONGO, A COSTA RICA,  COTE D'IVOIRE, Y CUBA, Y CYPRUS, Y CZECHOSLOVAKIA,  CAMBODIA, Y DEMOCRATIC YEMEN, N DENMARK,  DJIBOUTI, N DOMINICA,  DOMINICAN REPUBLIC, Y ECUADOR, A EGYPT, N EL SALVADOR, Y EQUATORIAL GUINEA, Y ETHIOPIA, A FIJI, Y FINLAND, N FRANCE,  GABON,  GAMBIA, Y GERMAN DEMOCRATIC REPUBLIC, N GERMANY, FEDERAL REPUBLIC OF, Y GHANA, A GREECE, A GRENADA, Y GUATEMALA, Y GUINEA,  GUINEA-BISSAU, Y GUYANA, Y HAITI, A HONDURAS, Y HUNGARY, A ICELAND, Y INDIA, Y INDONESIA, Y IRAN (ISLAMIC REPUBLIC OF), Y IRAQ, A IRELAND, N ISRAEL, N ITALY, Y JAMAICA, N JAPAN, Y JORDAN, A KENYA, Y KUWAIT, Y LAO PEOPLE'S DEMOCRATIC REPUBLIC, A LEBANON,  LESOTHO, A LIBERIA, Y LIBYAN ARAB JAMAHIRIYA, N LUXEMBOURG, A MADAGASCAR, A MALAWI, Y MALAYSIA,  MALDIVES, Y MALI, A MALTA,  MAURITANIA, Y MAURITIUS, Y MEXICO, Y MONGOLIA, A MOROCCO,  MOZAMBIQUE, Y MYANMAR, Y NEPAL, N NETHERLANDS, N NEW ZEALAND, Y NICARAGUA, A NIGER,  NIGERIA, N NORWAY, A OMAN, Y PAKISTAN, N PANAMA, A PAPUA NEW GUINEA, Y PARAGUAY, Y PERU, A PHILIPPINES, A POLAND, N PORTUGAL, A QATAR, Y ROMANIA, A RWANDA,  SAINT KITTS AND NEVIS, A SAINT LUCIA, A SAINT VINCENT AND THE GRENADINES, A SAMOA,  SAO TOME AND PRINCIPE, A SAUDI ARABIA,  SENEGAL,  SEYCHELLES,  SIERRA LEONE, A SINGAPORE, Y SOLOMON ISLANDS, A SOMALIA,  SOUTH AFRICA, Y SPAIN, Y SRI LANKA, Y SUDAN, Y SURINAME,  SWAZILAND, Y SWEDEN, Y SYRIAN ARAB REPUBLIC, A THAILAND, A TOGO, Y TRINIDAD AND TOBAGO, A TUNISIA, N TURKEY, Y UGANDA, Y UKRAINE, Y USSR, A UNITED ARAB EMIRATES, N UNITED KINGDOM, Y UNITED REPUBLIC OF TANZANIA, N UNITED STATES, Y URUGUAY, Y VANUATU, Y VENEZUELA (BOLIVARIAN REPUBLIC OF), Y VIET NAM, A YEMEN, Y YUGOSLAVIA, A DEMOCRATIC REPUBLIC OF THE CONGO, Y ZAMBIA, Y ZIMBABWE,Export,\\n                                                                                                                                                                                                                                                                                                                                                                                       \n",
       "2  Y AFGHANISTAN, Y ALBANIA, Y ALGERIA, Y ANGOLA, Y ANTIGUA AND BARBUDA, Y ARGENTINA, Y AUSTRALIA, Y AUSTRIA, Y BAHAMAS, Y BAHRAIN, Y BANGLADESH, Y BARBADOS, Y BELGIUM, Y BELIZE, Y BENIN, Y BHUTAN, Y BOLIVIA, Y BOTSWANA, Y BRAZIL, Y BRUNEI DARUSSALAM, Y BULGARIA, Y BURKINA FASO, Y BURUNDI, Y BELARUS, Y CAMEROON, A CANADA, Y CAPE VERDE, Y CENTRAL AFRICAN REPUBLIC, Y CHAD, Y CHILE, Y CHINA, Y COLOMBIA,  COMOROS, Y CONGO, Y COSTA RICA, Y COTE D'IVOIRE, Y CUBA, Y CYPRUS, Y CZECHOSLOVAKIA, Y CAMBODIA, Y DEMOCRATIC YEMEN, Y DENMARK, Y DJIBOUTI, Y DOMINICA, Y DOMINICAN REPUBLIC, Y ECUADOR, Y EGYPT, Y EL SALVADOR,  EQUATORIAL GUINEA, Y ETHIOPIA, Y FIJI, Y FINLAND, Y FRANCE, Y GABON, Y GAMBIA, Y GERMAN DEMOCRATIC REPUBLIC, Y GERMANY, FEDERAL REPUBLIC OF, Y GHANA, Y GREECE,  GRENADA, Y GUATEMALA, Y GUINEA, Y GUINEA-BISSAU, Y GUYANA, Y HAITI, Y HONDURAS, Y HUNGARY, Y ICELAND, Y INDIA, Y INDONESIA, Y IRAN (ISLAMIC REPUBLIC OF), Y IRAQ, Y IRELAND, N ISRAEL, Y ITALY, Y JAMAICA, Y JAPAN, Y JORDAN,  KENYA, Y KUWAIT, Y LAO PEOPLE'S DEMOCRATIC REPUBLIC, Y LEBANON, Y LESOTHO, Y LIBERIA, Y LIBYAN ARAB JAMAHIRIYA, Y LUXEMBOURG, Y MADAGASCAR, Y MALAWI, Y MALAYSIA, Y MALDIVES, Y MALI, Y MALTA, Y MAURITANIA, Y MAURITIUS, Y MEXICO, Y MONGOLIA, Y MOROCCO, Y MOZAMBIQUE, Y MYANMAR, Y NEPAL, Y NETHERLANDS, Y NEW ZEALAND, Y NICARAGUA, Y NIGER, Y NIGERIA, Y NORWAY, Y OMAN, Y PAKISTAN,  PANAMA, Y PAPUA NEW GUINEA,  PARAGUAY, Y PERU, Y PHILIPPINES, Y POLAND, Y PORTUGAL, Y QATAR, Y ROMANIA, Y RWANDA,  SAINT KITTS AND NEVIS, Y SAINT LUCIA, Y SAINT VINCENT AND THE GRENADINES, Y SAMOA, Y SAO TOME AND PRINCIPE, Y SAUDI ARABIA, Y SENEGAL,  SEYCHELLES, Y SIERRA LEONE, Y SINGAPORE, Y SOLOMON ISLANDS, Y SOMALIA,  SOUTH AFRICA, Y SPAIN, Y SRI LANKA, Y SUDAN, Y SURINAME,  SWAZILAND, Y SWEDEN, Y SYRIAN ARAB REPUBLIC, Y THAILAND, Y TOGO, Y TRINIDAD AND TOBAGO, Y TUNISIA, Y TURKEY, Y UGANDA, Y UKRAINE, Y USSR, Y UNITED ARAB EMIRATES, Y UNITED KINGDOM, Y UNITED REPUBLIC OF TANZANIA, N UNITED STATES, Y URUGUAY, Y VANUATU, Y VENEZUELA (BOLIVARIAN REPUBLIC OF), Y VIET NAM, Y YEMEN, Y YUGOSLAVIA, Y DEMOCRATIC REPUBLIC OF THE CONGO, Y ZAMBIA, Y ZIMBABWE,Export,\\n                                                                                                                                                                                                                                                                                                                                                                         "
      ]
     },
     "execution_count": 6,
     "metadata": {},
     "output_type": "execute_result"
    }
   ],
   "source": [
    "data.head(3)"
   ]
  },
  {
   "cell_type": "code",
   "execution_count": 7,
   "metadata": {
    "collapsed": true
   },
   "outputs": [],
   "source": [
    "data['description']=data['descr'].copy()"
   ]
  },
  {
   "cell_type": "code",
   "execution_count": 8,
   "metadata": {
    "collapsed": true
   },
   "outputs": [],
   "source": [
    "def words_lower(text):\n",
    "    words=[word.lower() for word in text.split()]\n",
    "    return \" \".join(words)\n",
    "\n",
    "data['descr']=data['descr'].map(words_lower)"
   ]
  },
  {
   "cell_type": "code",
   "execution_count": 9,
   "metadata": {
    "collapsed": true
   },
   "outputs": [],
   "source": [
    "data['descr']=data['descr'].apply(lambda y: y.translate(str.maketrans('','',string.punctuation)))"
   ]
  },
  {
   "cell_type": "code",
   "execution_count": 10,
   "metadata": {
    "collapsed": true
   },
   "outputs": [],
   "source": [
    "data['descr1']=data['descr'].apply(lambda x: str(x).strip())\n",
    "data['descr1']=data['descr'].apply(lambda x: str(x).replace(\" \",\"\"))"
   ]
  },
  {
   "cell_type": "code",
   "execution_count": 11,
   "metadata": {},
   "outputs": [
    {
     "data": {
      "text/plain": [
       "'accreditationofnongovernmentalorganizationstothe4thworldconferenceonwomen'"
      ]
     },
     "execution_count": 11,
     "metadata": {},
     "output_type": "execute_result"
    }
   ],
   "source": [
    "data['descr1'][0]"
   ]
  },
  {
   "cell_type": "code",
   "execution_count": 11,
   "metadata": {
    "collapsed": true
   },
   "outputs": [],
   "source": [
    "# data1=data.groupby(['descr1','resolut','descr'])['resolut'].nunique().to_frame('Count')\n",
    "# data1.reset_index(inplace=True)\n",
    "# data2=data1.sort_values('Count', ascending=False)"
   ]
  },
  {
   "cell_type": "code",
   "execution_count": 12,
   "metadata": {
    "collapsed": true
   },
   "outputs": [],
   "source": [
    "# data2"
   ]
  },
  {
   "cell_type": "code",
   "execution_count": 13,
   "metadata": {
    "collapsed": true
   },
   "outputs": [],
   "source": [
    "# data3=data.groupby(['descr1'])['resolut'].unique().to_frame('Count')\n",
    "# data3.reset_index(inplace=True)\n",
    "# data4=data3.sort_values('Count', ascending=False)"
   ]
  },
  {
   "cell_type": "code",
   "execution_count": 14,
   "metadata": {
    "collapsed": true
   },
   "outputs": [],
   "source": [
    "# data2['descr']"
   ]
  },
  {
   "cell_type": "code",
   "execution_count": 17,
   "metadata": {
    "collapsed": true
   },
   "outputs": [],
   "source": [
    "def res_category(words):\n",
    "        if \"technology\" in words or \"science\" in words or \"scientific and technological\" in words:\n",
    "            return \"Science and Technology\"\n",
    "               \n",
    "        if \"investigate israeli practices\" in words:\n",
    "            return \"Middle East\"\n",
    "        \n",
    "        if \"permanent sovereignty of the palestinian\" in words:\n",
    "            return \"Middle East\"\n",
    "        \n",
    "        if 'syrian golan' in words: \n",
    "            return \"Middle East\"\n",
    "        \n",
    "        if words=='jerusalem':\n",
    "            return 'Middle East'\n",
    "        \n",
    "        if 'middle east' in words:\n",
    "            return \"Middle East\" #can be Israeli Occupation\n",
    "        \n",
    "        if 'palestine' in words or \"palestinian\" in words or \"unrwa\" in words\\\n",
    "        or '1967' in words and \"refugees\" in words: \n",
    "            return 'Middle East'\n",
    "        \n",
    "        if 'nuclear' in words or 'proliferation' in words or\\\n",
    "        'disarmament' in words or \"arms control\" in words or\\\n",
    "        \"atomic energy\" in words or \"missiles\" in words or \"weapons\" in words:\n",
    "            return 'Nuclear Disarmament'\n",
    "        if \"use, stockpiling, production\" in words or \"stockpiles\" in words:\n",
    "            return \"Nuclear Disarmament\"\n",
    "        if \"disarmament\" in words or \"armaments\" in words:\n",
    "            return 'Nuclear Disarmament'\n",
    "\n",
    "        if 'decolonization' in words or \"colonial\" in words\\\n",
    "        or \"non-self-governing\" in words or \"self-governing\" in words or \"cultural property\"\\\n",
    "        in words or \"national sovereignty\" in words or  \"globalization and interdependence\"\\\n",
    "        in words or \"non-self governing territories\" in words: \n",
    "            return 'Decolonization'\n",
    "        \n",
    "        if 'arms' in words and \"race\" in words or \"outer space\" in words\\\n",
    "        or \"military research and development\" in words or \"measures to provide objective information\\\n",
    "        on military capabilities\" in words: \n",
    "            return \"Arm Race in Space\"\n",
    "\n",
    "        if 'oceans' in words and 'law' in words and 'sea' in words:\n",
    "            return \"Law of the sea\"\n",
    "        if \"antarctica\" in words:\n",
    "            return \"Law of the sea\"\n",
    "        if 'law' in words and 'sea' in words:\n",
    "            return \"Law of the sea\"\n",
    "        \n",
    "        #countries\n",
    "        \n",
    "        if \"iran\" in words:\n",
    "            return \"Iran\"\n",
    "        if \"cuba\" in words:\n",
    "            return \"Cuba\"\n",
    "        if \"lebanon\" in words:\n",
    "            return \"Lebanon\"\n",
    "        if \"namibia\" in words:\n",
    "            return 'Namibia'\n",
    "        if \"kampuchea\" in words:\n",
    "            return 'Kampuchea'\n",
    "        if \"chile\" in words:\n",
    "            return \"Chile\"\n",
    "        if \"mayotte\" in words:\n",
    "            return \"Mayotte\"\n",
    "        if \"iraq\" in words:\n",
    "            return \"Iraq\"\n",
    "        if \"korea\" in words:\n",
    "            return \"Korea\"\n",
    "        if \"sudan\" in words:\n",
    "            return \"Sudan\"\n",
    "        if 'syrian' in words or \"syria\" in words:\n",
    "            return \"Syria\"\n",
    "        if \"congo\" in words:\n",
    "            return \"Congo\"\n",
    "        if \"salvador\" in words:\n",
    "            return \"Salvador\"\n",
    "        if \"myanmar\" in words:\n",
    "            return \"Myanmar\"\n",
    "        if \"guatemala\" in words:\n",
    "            return \"Guatemala\"\n",
    "        if \"kosovo\" in words or \"yugoslavia\" in words or \"herzegovina\" in words\\\n",
    "        or \"croatia\" in words or \"montenegro\" in words or \"serbia\" in words:\n",
    "            return \"Yugoslavia\"\n",
    "        if \"afghanistan\" in words:\n",
    "            return \"Afghanistan\"\n",
    "        if \"turkmenistan\" in words:\n",
    "            return \"Turkmenistan\"\n",
    "        if \"nigeria\" in words:\n",
    "            return \"Nigeria\"\n",
    "        if \"belarus\" in words:\n",
    "            return \"Belarus\"\n",
    "#         if \"uzbekistan\" in words:\n",
    "#             return \"Uzbekistan\"\n",
    "#         if \"kuwait\" in words:\n",
    "#             return \"Kuwait\"\n",
    "#         if \"bolivia\" in words:\n",
    "#             return \"Bolivia\"\n",
    "        if \"ukraine\" in words or \"crimea\" in words:\n",
    "            return \"Ukraine\"\n",
    "        if \"angola\" in words:\n",
    "            return \"Angola\"\n",
    "        if \"malvinas\" in words:\n",
    "            return \"Malvinas\"\n",
    "        if \"south\" in words and \"africa\" in words:\n",
    "            return \"South Africa\"\n",
    "        \n",
    "        if \"women\" in words:\n",
    "            return \"Women\"\n",
    "        if \"child\" in words or \"children\" in words:\n",
    "            return \"Children\"\n",
    "        \n",
    "        if \"apartheid\" in words or \"racial discrimination\" in words or \"discrimination\" in words or\\\n",
    "           \"nazi\" in words or \"racial intolerance\" in words:\n",
    "            return \"Racial Discrimination\"\n",
    "\n",
    "        if \"human\" in words and \"rights\" in words or \"human rights\" in words or \"the right to development\" in words or\\\n",
    "        \"the right to food\" in words or \"political rights\" in words or \"rights of the child\" in words\\\n",
    "        or \"right to development\" in words or \"right of peoples to peace\" in words\\\n",
    "        or \"preparation of societies for life in peace\" in words or \"realization of the right to adequate housing\"\\\n",
    "        in words or \"improvement of social life\" in words or \"the right of peoples to self-determination\" in words\\\n",
    "        or \"the right to peace\" in words or \"economic rights\" in words or \"right to universal freedom of travel\" in\\\n",
    "        words or \"the human right to water and sanitation\" in words or \"the right of development\" in words or\\\n",
    "        \"the right of everyone\" in words or \"respect for the universal freedom\" in words\\\n",
    "        or \"social and economic changes for the purpose of social progress\" in words: \n",
    "            return \"Universal Human Rights\" \n",
    "        \n",
    "        if 'georgia' in words and \"refugees\" in words:\n",
    "            return \"Georgian Refugees\"\n",
    "        \n",
    "        if \"protection of migrants\" in words or \"international cooperation to avert new flows of refugees\" in words\\\n",
    "        or \"united nations high commissioner for refugees\" in words:\n",
    "            return \"Assistance to Refugees\"\n",
    "        \n",
    "        if \"security\" in words:\n",
    "            return \"Security\"\n",
    "        \n",
    "        if \"oil slick on lebanese shores\" in words or \"environment\" in words\\\n",
    "        or \"dumping of radioactive wastes\" in words or \"modern energy for all\" in words\\\n",
    "        or \"sustainability and development\" in words or \"sustainable\" in words or \"nature\" in words:\n",
    "            return \"Environment\"\n",
    "        \n",
    "        if \"promotion of democratization\" in words or \"promoting and consolidating democracy\"\\\n",
    "        in words or \"democratization\" in words or \"principle of periodic and genuine elections\" in words:\n",
    "            return \"Democratization\"\n",
    "        \n",
    "\n",
    "        if \"trade\" in words or 'commodities' in words:\n",
    "            return \"Trade and Commodities\"\n",
    "        \n",
    "        if \"arms\" in words and \"trade\" in words and 'treaty' in words:\n",
    "            return \"Arms Trade Treaty\"\n",
    "        \n",
    "        if \"arms\" in words:\n",
    "            return \"Arms Treaty\"\n",
    "        \n",
    "        \n",
    "        if \"embargo\" in words:\n",
    "            return \"Embargo\"\n",
    "        \n",
    "        \n",
    "        if \"conversion of military resources\" in words or \"military budgets\" in\\\n",
    "        words or \"reduction of military budgets\" in words:\n",
    "            return \"Military Resources Reduction\"\n",
    "        \n",
    "        if \"objective information on military matters\" in words:\n",
    "            return \"Military Capabilities\"\n",
    "        \n",
    "        if \"peace\" in words:\n",
    "            return \"Peace\"\n",
    "        \n",
    "        if \"crime\" in words:\n",
    "            return \"Crime\"\n",
    "        \n",
    "        if \"international economic order\" in words:\n",
    "            return \"Economic Order\"\n",
    "        \n",
    "        if \"developing countries\" in words or \"developing to developed countries\" in words or\\\n",
    "        \"coercive\" in words and \"measures\" in words:\n",
    "            return \"Developing Countries\"\n",
    "        \n",
    "        if \"religious\" in words or \"religion\" in words:\n",
    "            return \"Religion\"\n",
    "        \n",
    "        if \"finding\" in words or \"fund\" in words or \"financial\" in words or \"budget\" in words or \"financing\" in words\\\n",
    "        or \"income estimates\" in words or \"expenses\" in words or \"finance\" in words or \"reimbursement\" in words\\\n",
    "        or \"debt\" in words:\n",
    "            return \"Funding\"\n",
    "        \n",
    "        if \"united nations\" in words and \"strengthening\" in \\\n",
    "        words or \"strengthening of good-neighbourliness between states\" in words:\n",
    "            return \"UN Strengthening\"\n",
    "        \n",
    "        if \"death penalty\" in words:\n",
    "            return \"Death Penalty\"\n",
    "\n",
    "        if \"cooperation\" in words:\n",
    "            return \"Cooperation\"\n",
    "        \n",
    "        if \"special economic assistance\" in words or \"special action\" in words or \"special assistance\" in words\\\n",
    "        or \"emergency assistance\" in words or \"assistance\" in words:\n",
    "            return \"Special Assistance\"\n",
    "        \n",
    "        if \"arbitrary executions\" in words:\n",
    "            return \"Arbitrary Executions\"\n",
    "        \n",
    "        if \"brokering activities\" in words:\n",
    "            return \"Brokering Activities\"\n",
    "        \n",
    "        if \"host country\" in words:\n",
    "            return \"Relations with Host Country\"\n",
    "        \n",
    "        if 'measures' in words and \"authority\" in words and \"geneva\" in words:\n",
    "            return \"1925 geneva protocol\"\n",
    "        \n",
    "        if \"arab states\" in words:\n",
    "            return \"UN and Arab States\"\n",
    "        \n",
    "#         if \"implenmentation\" in words or \"implementations\" in words or \"implenmentation of the declaration\"\\\n",
    "#         in words or \"implementations of the recommendations\" in words:\n",
    "#             return \"Implenmentation\"\n",
    "        \n",
    "        if \"international affairs\" in words or \"international situation\" in words or \"international relations\" in words:\n",
    "            return \"International Matters\"\n",
    "        \n",
    "        if \"world social situation\" in words:\n",
    "            return \"World Social Situation\"\n",
    "        if \"staff\" in words or \"honoraria payable\" in words or \"pension system\" in words:\n",
    "            return \"Admin\"\n",
    "        if \"promotion of a democratic and equitable international order\" in words:\n",
    "            return \"International Order\"\n",
    "        else:\n",
    "            return words\n",
    "        \n",
    "data['category']=data['descr'].map(res_category);"
   ]
  },
  {
   "cell_type": "code",
   "execution_count": 18,
   "metadata": {
    "scrolled": false
   },
   "outputs": [
    {
     "data": {
      "text/plain": [
       "Middle East                                                                                                                                                                                                                                                 782\n",
       "Nuclear Disarmament                                                                                                                                                                                                                                         753\n",
       "Universal Human Rights                                                                                                                                                                                                                                      238\n",
       "Decolonization                                                                                                                                                                                                                                              183\n",
       "Racial Discrimination                                                                                                                                                                                                                                       88 \n",
       "South Africa                                                                                                                                                                                                                                                77 \n",
       "Funding                                                                                                                                                                                                                                                     75 \n",
       "Security                                                                                                                                                                                                                                                    58 \n",
       "Law of the sea                                                                                                                                                                                                                                              56 \n",
       "Science and Technology                                                                                                                                                                                                                                      54 \n",
       "Arm Race in Space                                                                                                                                                                                                                                           50 \n",
       "Namibia                                                                                                                                                                                                                                                     46 \n",
       "Peace                                                                                                                                                                                                                                                       40 \n",
       "Developing Countries                                                                                                                                                                                                                                        38 \n",
       "Lebanon                                                                                                                                                                                                                                                     37 \n",
       "Cuba                                                                                                                                                                                                                                                        32 \n",
       "Environment                                                                                                                                                                                                                                                 31 \n",
       "Iran                                                                                                                                                                                                                                                        30 \n",
       "information from nonselfgoverning territories transmitted under article 73 e of the charter of the united nations                                                                                                                                           26 \n",
       "Trade and Commodities                                                                                                                                                                                                                                       25 \n",
       "persons displaced as a result of the june 1967 and subsequent hostilities                                                                                                                                                                                   23 \n",
       "Cooperation                                                                                                                                                                                                                                                 21 \n",
       "Yugoslavia                                                                                                                                                                                                                                                  20 \n",
       "Mayotte                                                                                                                                                                                                                                                     17 \n",
       "implementation of the convention on the prohibition of the use stockpiling production and transfer of antipersonnel mines and on their destruction                                                                                                          16 \n",
       "Economic Order                                                                                                                                                                                                                                              16 \n",
       "Democratization                                                                                                                                                                                                                                             16 \n",
       "Iraq                                                                                                                                                                                                                                                        15 \n",
       "Women                                                                                                                                                                                                                                                       15 \n",
       "economic and other activities which affect the interests of the peoples of the nonselfgoverning territories                                                                                                                                                 15 \n",
       "International Order                                                                                                                                                                                                                                         15 \n",
       "Special Assistance                                                                                                                                                                                                                                          14 \n",
       "questions relating to information                                                                                                                                                                                                                           13 \n",
       "Afghanistan                                                                                                                                                                                                                                                 13 \n",
       "Kampuchea                                                                                                                                                                                                                                                   12 \n",
       "Syria                                                                                                                                                                                                                                                       12 \n",
       "Sudan                                                                                                                                                                                                                                                       11 \n",
       "Chile                                                                                                                                                                                                                                                       10 \n",
       "Children                                                                                                                                                                                                                                                    10 \n",
       "Georgian Refugees                                                                                                                                                                                                                                           10 \n",
       "1925 geneva protocol                                                                                                                                                                                                                                        9  \n",
       "question of western sahara                                                                                                                                                                                                                                  9  \n",
       "Malvinas                                                                                                                                                                                                                                                    9  \n",
       "Korea                                                                                                                                                                                                                                                       9  \n",
       "International Matters                                                                                                                                                                                                                                       9  \n",
       "Arbitrary Executions                                                                                                                                                                                                                                        8  \n",
       "Salvador                                                                                                                                                                                                                                                    8  \n",
       "Congo                                                                                                                                                                                                                                                       8  \n",
       "Religion                                                                                                                                                                                                                                                    8  \n",
       "UN and Arab States                                                                                                                                                                                                                                          8  \n",
       "UN Strengthening                                                                                                                                                                                                                                            8  \n",
       "Relations with Host Country                                                                                                                                                                                                                                 7  \n",
       "Military Resources Reduction                                                                                                                                                                                                                                7  \n",
       "Admin                                                                                                                                                                                                                                                       7  \n",
       "information from nonselfgoverning territories transmitted under article 73e of the charter of the united nations                                                                                                                                            6  \n",
       "implementation of the declaration                                                                                                                                                                                                                           6  \n",
       "Myanmar                                                                                                                                                                                                                                                     6  \n",
       "Death Penalty                                                                                                                                                                                                                                               6  \n",
       "implementation of the recommendations and decisions of the 10th special session                                                                                                                                                                             5  \n",
       "Arms Treaty                                                                                                                                                                                                                                                 5  \n",
       "Guatemala                                                                                                                                                                                                                                                   5  \n",
       "Military Capabilities                                                                                                                                                                                                                                       5  \n",
       "israels decision to build a canal linking the mediterranean sea to the dead sea                                                                                                                                                                             5  \n",
       "remnants of war                                                                                                                                                                                                                                             4  \n",
       "Brokering Activities                                                                                                                                                                                                                                        4  \n",
       "Crime                                                                                                                                                                                                                                                       4  \n",
       "World Social Situation                                                                                                                                                                                                                                      4  \n",
       "transport and communications decade in africa                                                                                                                                                                                                               3  \n",
       "implementation of the convention on cluster munitions                                                                                                                                                                                                       3  \n",
       "the situation in grenada                                                                                                                                                                                                                                    3  \n",
       "judgment of the international court of justice of 27 june 1986 concerning military and paramilitary activities in and against nicaragua                                                                                                                     3  \n",
       "review of the implementation of the recommendations and decisions adopted by the general assembly at its 10th special session                                                                                                                               3  \n",
       "development and strengthening of goodneighbourliness between states                                                                                                                                                                                         3  \n",
       "Nigeria                                                                                                                                                                                                                                                     3  \n",
       "Turkmenistan                                                                                                                                                                                                                                                3  \n",
       "department of public information of the secretariat                                                                                                                                                                                                         3  \n",
       "Ukraine                                                                                                                                                                                                                                                     3  \n",
       "iaea report                                                                                                                                                                                                                                                 3  \n",
       "question of east timor                                                                                                                                                                                                                                      3  \n",
       "Assistance to Refugees                                                                                                                                                                                                                                      3  \n",
       "united nations institute for training and research                                                                                                                                                                                                          2  \n",
       "measures to eliminate international terrorism                                                                                                                                                                                                               2  \n",
       "information from non selfgoverning territories transmitted under article 73 e of the charter of the united nations                                                                                                                                          2  \n",
       "entrepreneurship for development                                                                                                                                                                                                                            2  \n",
       "regional confidencebuilding measures                                                                                                                                                                                                                        2  \n",
       "measures to provide objective information on military capabilities                                                                                                                                                                                          2  \n",
       "confidencebuilding in international economic relations                                                                                                                                                                                                      2  \n",
       "question of guam                                                                                                                                                                                                                                            2  \n",
       "verification in all its aspects including the role of the united nations in the field of verification                                                                                                                                                       2  \n",
       "economic and other activities which affect the interests of the peoples of the non selfgoverning territories                                                                                                                                                2  \n",
       "review of the multilateral treatymaking process                                                                                                                                                                                                             2  \n",
       "Belarus                                                                                                                                                                                                                                                     2  \n",
       "implementation of the recommendations and decisions of the tenth special session                                                                                                                                                                            2  \n",
       "information from nonselfgoverning territories transmitted under article 73e of the charter of the un                                                                                                                                                        2  \n",
       "respect for the privileges and immunities of officials of the united nations and the specialized agencies and related organizations                                                                                                                         2  \n",
       "Angola                                                                                                                                                                                                                                                      2  \n",
       "report of the international civil service commission                                                                                                                                                                                                        2  \n",
       "an international agreement to ban antipersonnel landmines                                                                                                                                                                                                   1  \n",
       "office of the united nations disaster relief coordinator                                                                                                                                                                                                    1  \n",
       "economic and other activities affecting the interests of the peoples of nonselfgoverning territories                                                                                                                                                        1  \n",
       "study on the role of the united nations in the field of verification                                                                                                                                                                                        1  \n",
       "khmer rouge trials                                                                                                                                                                                                                                          1  \n",
       "united nations declaration on human cloning                                                                                                                                                                                                                 1  \n",
       "implementation of the convention on the prohibition of the use stockpiling production and transfer of anti personnel mines and on their destruction                                                                                                         1  \n",
       "international migration and development                                                                                                                                                                                                                     1  \n",
       "provisional procedures to uphold the authority of the 1925 geneva protocol                                                                                                                                                                                  1  \n",
       "health insurance contributions by the organizations of the united nations common system                                                                                                                                                                     1  \n",
       "largescale pelagic driftnet fishing                                                                                                                                                                                                                         1  \n",
       "implenmentation of the declaration                                                                                                                                                                                                                          1  \n",
       "united nations accommodation at nairobi                                                                                                                                                                                                                     1  \n",
       "economic and other activities which affect the interest of the peoples of the nonselfgoverning territories                                                                                                                                                  1  \n",
       "proclamation of 21 november as world television day                                                                                                                                                                                                         1  \n",
       "rationalization of the work of the first committee                                                                                                                                                                                                          1  \n",
       "problem of remnants of war                                                                                                                                                                                                                                  1  \n",
       "inadmissibility of the policy of state terrorism and any actions by states aimed at undermining the sociopolitical system in other sovereign states                                                                                                         1  \n",
       "information from nonselfgoverning territories                                                                                                                                                                                                               1  \n",
       "the situation in the occupied territories of azerbaijan                                                                                                                                                                                                     1  \n",
       "questions related to information                                                                                                                                                                                                                            1  \n",
       "implementation of the guidelines for appropriate types of confidencebuilding measures                                                                                                                                                                       1  \n",
       "towards a comprehensive and integral international legal instrument to promote and protect the rights and dignity of older persons                                                                                                                          1  \n",
       "issue of special postage stamps                                                                                                                                                                                                                             1  \n",
       "question of belize                                                                                                                                                                                                                                          1  \n",
       "united nations declaration on the rights of indigenous peoples                                                                                                                                                                                              1  \n",
       "report of the secretarygeneral in implementation of general assembly resolution 40173                                                                                                                                                                       1  \n",
       "pretorias racial municipal elections                                                                                                                                                                                                                        1  \n",
       "proclamation of the world decade for cultural development                                                                                                                                                                                                   1  \n",
       "declaration of the assembly of heads of state and government of the organization of african unity on the aerial and naval military attack against the socialist peoples libyan arab jamahiriya by the present united states administration in april 1986    1  \n",
       "question of aging                                                                                                                                                                                                                                           1  \n",
       "displaced persons since the june 1967 and subsequent hostilities                                                                                                                                                                                            1  \n",
       "convention on the law of the nonnavigational uses of international watercourses                                                                                                                                                                             1  \n",
       "confidencebuilding measures in the regional and subregional context                                                                                                                                                                                         1  \n",
       "personnel questions                                                                                                                                                                                                                                         1  \n",
       "admission of belize to membership in the united nations                                                                                                                                                                                                     1  \n",
       "longterm trends in economic development                                                                                                                                                                                                                     1  \n",
       "nonselfgoverning territories                                                                                                                                                                                                                                1  \n",
       "global forum on migration and development                                                                                                                                                                                                                   1  \n",
       "question of cyprus                                                                                                                                                                                                                                          1  \n",
       "principles governing the use by states of artificial earth satellites for international direct television broadcasting                                                                                                                                      1  \n",
       "review of the rates of reinbursement on the governments of troopcontributing states                                                                                                                                                                         1  \n",
       "national experience in promoting the cooperative movement                                                                                                                                                                                                   1  \n",
       "universal realization of the right of peoples to selfdetermination                                                                                                                                                                                          1  \n",
       "question of new caledonia                                                                                                                                                                                                                                   1  \n",
       "observance of the fortieth anniversary of the united nations                                                                                                                                                                                                1  \n",
       "protection of global climate for present and future generations of mankind                                                                                                                                                                                  1  \n",
       "recent developments in connexion with excavations in eastern jerusalem                                                                                                                                                                                      1  \n",
       "preparation for an international development strategy for the 4th united nations development decade                                                                                                                                                         1  \n",
       "university of jerusalem alquds                                                                                                                                                                                                                              1  \n",
       "venue of annual sessions of executive boards undpunfpaunops                                                                                                                                                                                                 1  \n",
       "draft convention on international bills of exchange and international promissory notes                                                                                                                                                                      1  \n",
       "operational activities for development of the united nations system                                                                                                                                                                                         1  \n",
       "the united nations in global economic governance                                                                                                                                                                                                            1  \n",
       "immediate implementation of the nairobi programme of action for the development and utilization of new and renewable sources of energy                                                                                                                      1  \n",
       "international year for the worlds indigenous people                                                                                                                                                                                                         1  \n",
       "economic and other activities which affect the interests of the peoples of the nonself governing territories                                                                                                                                                1  \n",
       "specific action related to the particular needs and problems of landlocked development countries                                                                                                                                                            1  \n",
       "rationalization of existing united nations procedures                                                                                                                                                                                                       1  \n",
       "violent disintegration of states prevention                                                                                                                                                                                                                 1  \n",
       "implementations of the recommendations and decisions of the tenth special session                                                                                                                                                                           1  \n",
       "implementation of resolutions of the united nations                                                                                                                                                                                                         1  \n",
       "use of mercenaries                                                                                                                                                                                                                                          1  \n",
       "summary records for meetings of subsidary organs of the general assembly                                                                                                                                                                                    1  \n",
       "participation of the european union in the work of the united nations                                                                                                                                                                                       1  \n",
       "international year of deserts and desertification 2006                                                                                                                                                                                                      1  \n",
       "paragraph 125 of the final document                                                                                                                                                                                                                         1  \n",
       "pension scheme for the members of the international court of justice                                                                                                                                                                                        1  \n",
       "international albinism awareness day                                                                                                                                                                                                                        1  \n",
       "enlargement of the international law commission amendments to articles 2 and 9 of the statute of the commission                                                                                                                                             1  \n",
       "prevention of prostitution                                                                                                                                                                                                                                  1  \n",
       "implementation of the outcome of the world summit for social development and of the twentyfourth special session of the general assembly                                                                                                                    1  \n",
       "status of jerusalem                                                                                                                                                                                                                                         1  \n",
       "investing in the united nations for a stronger organization worldwide                                                                                                                                                                                       1  \n",
       "terrorist attacks on internationally protected persons                                                                                                                                                                                                      1  \n",
       "access to medication in the context of pandemics such as hivaids tuberculosis and malaria                                                                                                                                                                   1  \n",
       "effects of the military intervention by the united states of america in panama on the situation in central america                                                                                                                                          1  \n",
       "establishment of an information systems unit in the department of international economic and social affairs                                                                                                                                                 1  \n",
       "industrial development decade for africa                                                                                                                                                                                                                    1  \n",
       "moderation                                                                                                                                                                                                                                                  1  \n",
       "preservation of and compliance with the treaty on the limitation of antiballistic missile systems                                                                                                                                                           1  \n",
       "entrepreneurship                                                                                                                                                                                                                                            1  \n",
       "comprehensive study on the military use of research and development                                                                                                                                                                                         1  \n",
       "united nations public information policies and activities                                                                                                                                                                                                   1  \n",
       "united nations common system                                                                                                                                                                                                                                1  \n",
       "judgement of the international court of justice of 27 june 1986 concerning military and paramilitary activities in and against nicaragua                                                                                                                    1  \n",
       "draft articles on the law of the nonnavigational uses of international watercourses                                                                                                                                                                         1  \n",
       "multilingualism                                                                                                                                                                                                                                             1  \n",
       "economic and other activities affecting peoples of nonselfgoverning territories                                                                                                                                                                             1  \n",
       "raising the flags of nonmember observer states at the united nations                                                                                                                                                                                        1  \n",
       "african alternative framework to structural adjustment programmes for socioeconomic recovery and transformation                                                                                                                                             1  \n",
       "restoration of the authority of the lebanese state                                                                                                                                                                                                          1  \n",
       "progress towards an accountability system in the united nations secretariat                                                                                                                                                                                 1  \n",
       "status of the committee on conferences                                                                                                                                                                                                                      1  \n",
       "declaration on the inadmissibility of intervention and interference in the internal affairs of states                                                                                                                                                       1  \n",
       "optional protocol to the convention against torture and other cruel inhuman or degrading treatment or punishment                                                                                                                                            1  \n",
       "public information tasks of the united nations                                                                                                                                                                                                              1  \n",
       "question of the malagasy islands of glorieuses juan de nova europa and bassas da india                                                                                                                                                                      1  \n",
       "implementation of declaration                                                                                                                                                                                                                               1  \n",
       "freedom of travel and family reunification                                                                                                                                                                                                                  1  \n",
       "credentials of representatives to the sixtysixth session of the general assembly                                                                                                                                                                            1  \n",
       "consideration of guidelines for confidencebuilding measures                                                                                                                                                                                                 1  \n",
       "review and implementation of the concluding document of the 12th special session of the general assembly                                                                                                                                                    1  \n",
       "Name: category, dtype: int64"
      ]
     },
     "execution_count": 18,
     "metadata": {},
     "output_type": "execute_result"
    }
   ],
   "source": [
    "data['category'].value_counts()\n"
   ]
  },
  {
   "cell_type": "code",
   "execution_count": 34,
   "metadata": {
    "collapsed": true
   },
   "outputs": [],
   "source": [
    "data.to_csv(path_or_buf=\"/Users/uncontract/Documents/UN_data/UN_Resolution/PART2/CLUSTERING_AN_ITS_ANALYSIS/categories_titles.csv\", index=False)"
   ]
  },
  {
   "cell_type": "code",
   "execution_count": 37,
   "metadata": {
    "collapsed": true
   },
   "outputs": [],
   "source": [
    "data2=data[['category','resolut','descr']]"
   ]
  },
  {
   "cell_type": "code",
   "execution_count": 38,
   "metadata": {
    "collapsed": true
   },
   "outputs": [],
   "source": [
    "df3=data2[data2['category']=='Israeli Occupation']"
   ]
  },
  {
   "cell_type": "code",
   "execution_count": null,
   "metadata": {
    "collapsed": true
   },
   "outputs": [],
   "source": []
  },
  {
   "cell_type": "code",
   "execution_count": null,
   "metadata": {
    "collapsed": true
   },
   "outputs": [],
   "source": []
  },
  {
   "cell_type": "code",
   "execution_count": null,
   "metadata": {
    "collapsed": true
   },
   "outputs": [],
   "source": []
  },
  {
   "cell_type": "code",
   "execution_count": null,
   "metadata": {
    "collapsed": true
   },
   "outputs": [],
   "source": []
  },
  {
   "cell_type": "code",
   "execution_count": null,
   "metadata": {
    "collapsed": true
   },
   "outputs": [],
   "source": []
  },
  {
   "cell_type": "code",
   "execution_count": null,
   "metadata": {
    "collapsed": true
   },
   "outputs": [],
   "source": [
    "new_state=state_df.set_index('name')\n",
    "new_state\n",
    "\n",
    "n_states=[x for x new_state.index if 'N' in x[0]]\n",
    "\n",
    "n_state_df=new_state_df.loc[n_states,:]\n",
    "\n",
    "n_state_df"
   ]
  },
  {
   "cell_type": "code",
   "execution_count": null,
   "metadata": {
    "collapsed": true
   },
   "outputs": [],
   "source": [
    "state_df[state_df['name'].str.contains('South')]\n",
    "\n",
    "state_df[(state_df['name_length']>12)\\\n",
    "          &(state_df['name'].str.contains('South'))]"
   ]
  },
  {
   "cell_type": "code",
   "execution_count": null,
   "metadata": {
    "collapsed": true
   },
   "outputs": [],
   "source": [
    "state_df[(state_df['name'].str.contains('North'))\\\n",
    "          |(state_df['name'].str.contains('South'))]"
   ]
  },
  {
   "cell_type": "code",
   "execution_count": null,
   "metadata": {
    "collapsed": true
   },
   "outputs": [],
   "source": [
    "https://stackoverflow.com/questions/41827660/reveal-k-modes-cluster-features\n",
    "    \n",
    "https://mubaris.com/2017/10/01/kmeans-clustering-in-python/\n",
    "    https://www.researchgate.net/post/K_modes_clustering_how_to_choose_the_number_of_clusters\n",
    "        \n",
    "        https://github.com/nicodv/kmodes\n",
    "            \n",
    "            https://stackoverflow.com/questions/42639824/python-k-modes-explanation"
   ]
  }
 ],
 "metadata": {
  "kernelspec": {
   "display_name": "Python 3",
   "language": "python",
   "name": "python3"
  },
  "language_info": {
   "codemirror_mode": {
    "name": "ipython",
    "version": 3
   },
   "file_extension": ".py",
   "mimetype": "text/x-python",
   "name": "python",
   "nbconvert_exporter": "python",
   "pygments_lexer": "ipython3",
   "version": "3.6.3"
  }
 },
 "nbformat": 4,
 "nbformat_minor": 2
}
