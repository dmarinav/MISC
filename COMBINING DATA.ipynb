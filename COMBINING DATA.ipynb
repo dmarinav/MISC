{
 "cells": [
  {
   "cell_type": "code",
   "execution_count": 1,
   "metadata": {
    "collapsed": true
   },
   "outputs": [],
   "source": [
    "import pandas as pd\n",
    "pd.set_option('display.max_colwidth', -1)\n",
    "pd.set_option('display.max_rows', 500)\n",
    "pd.set_option('display.float_format', lambda x: '%.3f' % x)"
   ]
  },
  {
   "cell_type": "code",
   "execution_count": 3,
   "metadata": {
    "collapsed": true
   },
   "outputs": [],
   "source": [
    "\n",
    "df = pd.read_csv('indicators.csv',encoding='ISO-8859-1')\n",
    "\n"
   ]
  },
  {
   "cell_type": "code",
   "execution_count": 7,
   "metadata": {},
   "outputs": [],
   "source": [
    "\n",
    "def rename_rows(words):\n",
    "\n",
    "    if words ==\"Food production index (2004-2006 = 100)\":\n",
    "        return 'food_index'\n",
    "    elif words ==\"GDP per capita (constant 2010 US$)\":\n",
    "        return 'gdp_capita'\n",
    "    elif words ==\"Trade (% of GDP)\":\n",
    "        return 'trade'\n",
    "    elif words ==\"GDP (constant 2010 US$)\":\n",
    "        return 'gdp'\n",
    "    elif words ==\"Tax revenue (% of GDP)\":\n",
    "        return 'tax_rev'\n",
    "    elif words ==\"School enrollment, primary (% gross)\":\n",
    "        return 'school_enroll_prim'\n",
    "    elif words ==\"School enrollment, preprimary (% gross)\":\n",
    "        return 'school_enroll_prep'\n",
    "    elif words ==\"Researchers in R&D (per million people)\":\n",
    "        return 'rd'\n",
    "    elif words ==\"School enrollment, primary and secondary (gross), gender parity index (GPI)\":\n",
    "        return 'school_gpi'\n",
    "    else:\n",
    "        return words"
   ]
  },
  {
   "cell_type": "code",
   "execution_count": 8,
   "metadata": {
    "collapsed": true
   },
   "outputs": [],
   "source": [
    "\n",
    "df['indicator_name']=df['indicator_name'].map(rename_rows)"
   ]
  },
  {
   "cell_type": "code",
   "execution_count": 6,
   "metadata": {},
   "outputs": [],
   "source": [
    "df1=df.iloc[74025:]\n",
    "\n"
   ]
  },
  {
   "cell_type": "code",
   "execution_count": 10,
   "metadata": {
    "collapsed": true
   },
   "outputs": [],
   "source": [
    "df2=df1[(df1['indicator_name'] =='food_index') | \\\n",
    "        (df1['indicator_name'] =='gdp_capita') | \\\n",
    "        (df1['indicator_name'] =='gdp') | \\\n",
    "        (df1['indicator_name'] =='tax_rev') | \\\n",
    "        (df1['indicator_name'] =='school_enroll_prim') | \\\n",
    "        (df1['indicator_name'] =='school_enroll_prep') | \\\n",
    "        (df1['indicator_name'] =='rd') | \\\n",
    "        (df1['indicator_name'] =='school_gpi') | \\\n",
    "        (df1['indicator_name'] =='trade')]"
   ]
  },
  {
   "cell_type": "code",
   "execution_count": 11,
   "metadata": {},
   "outputs": [
    {
     "name": "stdout",
     "output_type": "stream",
     "text": [
      "['1960', '1961', '1962', '1963', '1964', '1965', '1966', '1967', '1968', '1969', '1970', '1971', '1972', '1973', '1974', '1975', '1976', '1977', '1978', '1979', '1980', '1981', '1982', '1983', '1984', '1985', '1986', '1987', '1988', '1989', '1990', '1991', '1992', '1993', '1994', '1995', '1996', '1997', '1998', '1999', '2000', '2001', '2002', '2003', '2004', '2005', '2006', '2007', '2008', '2009', '2010', '2011', '2012', '2013', '2014', '2015', '2016', '2017']\n"
     ]
    }
   ],
   "source": [
    "val_list=list(df.iloc[:, 4:])\n",
    "print (val_list)"
   ]
  },
  {
   "cell_type": "code",
   "execution_count": 12,
   "metadata": {},
   "outputs": [
    {
     "name": "stdout",
     "output_type": "stream",
     "text": [
      "<class 'pandas.core.frame.DataFrame'>\n",
      "RangeIndex: 113274 entries, 0 to 113273\n",
      "Data columns (total 6 columns):\n",
      "country_name      113274 non-null object\n",
      "country_code      113274 non-null object\n",
      "indicator_code    113274 non-null object\n",
      "indicator_name    113274 non-null object\n",
      "year              113274 non-null object\n",
      "value             58109 non-null float64\n",
      "dtypes: float64(1), object(5)\n",
      "memory usage: 5.2+ MB\n"
     ]
    }
   ],
   "source": [
    "df_clean =pd.melt(df2, id_vars=['country_name', 'country_code',\\\n",
    "                               'indicator_code','indicator_name'], value_vars=val_list,var_name='year')\n",
    "df_clean.info()"
   ]
  },
  {
   "cell_type": "code",
   "execution_count": 14,
   "metadata": {
    "collapsed": true
   },
   "outputs": [],
   "source": [
    " df_indicators = df_clean.pivot_table('value', ['country_name', 'country_code', 'year'], 'indicator_name')"
   ]
  },
  {
   "cell_type": "code",
   "execution_count": 15,
   "metadata": {
    "collapsed": true
   },
   "outputs": [],
   "source": [
    "df_indicators.reset_index(inplace=True)\n"
   ]
  },
  {
   "cell_type": "code",
   "execution_count": 16,
   "metadata": {},
   "outputs": [
    {
     "name": "stdout",
     "output_type": "stream",
     "text": [
      "<class 'pandas.core.frame.DataFrame'>\n",
      "RangeIndex: 12586 entries, 0 to 12585\n",
      "Data columns (total 12 columns):\n",
      "country_name          12586 non-null object\n",
      "country_code          12586 non-null object\n",
      "year                  12586 non-null object\n",
      "food_index            9922 non-null float64\n",
      "gdp                   8750 non-null float64\n",
      "gdp_capita            8747 non-null float64\n",
      "rd                    1272 non-null float64\n",
      "school_enroll_prep    5247 non-null float64\n",
      "school_enroll_prim    6955 non-null float64\n",
      "school_gpi            5123 non-null float64\n",
      "tax_rev               3724 non-null float64\n",
      "trade                 8369 non-null float64\n",
      "dtypes: float64(9), object(3)\n",
      "memory usage: 1.2+ MB\n"
     ]
    }
   ],
   "source": [
    "df_indicators['country_name'].value_counts().sort_index();\n",
    "df_indicators.info()"
   ]
  },
  {
   "cell_type": "code",
   "execution_count": 17,
   "metadata": {
    "collapsed": true
   },
   "outputs": [],
   "source": [
    "df_conflict = pd.read_csv('conflict.csv',encoding='ISO-8859-1')"
   ]
  },
  {
   "cell_type": "code",
   "execution_count": 18,
   "metadata": {},
   "outputs": [
    {
     "data": {
      "text/plain": [
       "Afghanistan                 67\n",
       "Albania                     67\n",
       "Algeria                     61\n",
       "Angola                      52\n",
       "Argentina                   67\n",
       "Armenia                     22\n",
       "Australia                   67\n",
       "Austria                     67\n",
       "Azerbaijan                  22\n",
       "Bahrain                     42\n",
       "Bangladesh                  42\n",
       "Belarus                     22\n",
       "Belgium                     67\n",
       "Benin                       53\n",
       "Bhutan                      64\n",
       "Bolivia                     67\n",
       "Bosnia and Herzegovina      21\n",
       "Botswana                    47\n",
       "Brazil                      67\n",
       "Bulgaria                    67\n",
       "Burkina Faso                53\n",
       "Burundi                     51\n",
       "Cambodia                    60\n",
       "Cameroon                    58\n",
       "Canada                      67\n",
       "Cape Verde                  38\n",
       "Central African Republic    53\n",
       "Chad                        53\n",
       "Chile                       67\n",
       "China                       67\n",
       "Colombia                    67\n",
       "Comoros                     38\n",
       "Congo-Brazzaville           53\n",
       "Congo-Kinshasa              53\n",
       "Costa Rica                  67\n",
       "Cote d'Ivoire               53\n",
       "Croatia                     22\n",
       "Cuba                        67\n",
       "Cyprus                      53\n",
       "Czech Republic              20\n",
       "Czechoslovakia              47\n",
       "Denmark                     67\n",
       "Djibouti                    36\n",
       "Dominican Republic          67\n",
       "East Timor                  11\n",
       "Ecuador                     67\n",
       "Egypt                       62\n",
       "El Salvador                 67\n",
       "Equatorial Guinea           45\n",
       "Eritrea                     20\n",
       "Estonia                     22\n",
       "Ethiopia                    67\n",
       "Fiji                        43\n",
       "Finland                     67\n",
       "France                      67\n",
       "Gabon                       53\n",
       "Gambia                      48\n",
       "Georgia                     22\n",
       "Germany                     22\n",
       "Germany East                42\n",
       "Germany West                36\n",
       "Germany, West               6 \n",
       "Ghana                       56\n",
       "Greece                      67\n",
       "Guatemala                   67\n",
       "Guinea                      55\n",
       "Guinea Bissau               12\n",
       "Guinea-Bissau               39\n",
       "Guyana                      47\n",
       "Haiti                       67\n",
       "Honduras                    67\n",
       "Hungary                     67\n",
       "India                       67\n",
       "Indonesia                   65\n",
       "Iran                        67\n",
       "Iraq                        67\n",
       "Ireland                     67\n",
       "Israel                      65\n",
       "Italy                       67\n",
       "Jamaica                     51\n",
       "Japan                       67\n",
       "Jordan                      67\n",
       "Kazakhstan                  22\n",
       "Kenya                       61\n",
       "Korea North                 65\n",
       "Korea South                 65\n",
       "Kosovo                      5 \n",
       "Kuwait                      52\n",
       "Kyrgyzstan                  22\n",
       "Laos                        59\n",
       "Latvia                      22\n",
       "Lebanon                     67\n",
       "Lesotho                     47\n",
       "Liberia                     67\n",
       "Libya                       61\n",
       "Lithuania                   22\n",
       "Luxembourg                  67\n",
       "Macedonia                   20\n",
       "Madagascar                  55\n",
       "Malawi                      49\n",
       "Malaysia                    63\n",
       "Mali                        53\n",
       "Mauritania                  53\n",
       "Mauritius                   45\n",
       "Mexico                      67\n",
       "Moldova                     22\n",
       "Mongolia                    67\n",
       "Morocco                     60\n",
       "Mozambique                  48\n",
       "Myanmar (Burma)             65\n",
       "Namibia                     48\n",
       "Nepal                       67\n",
       "Netherlands                 67\n",
       "New Zealand                 67\n",
       "Nicaragua                   67\n",
       "Niger                       53\n",
       "Nigeria                     53\n",
       "Norway                      67\n",
       "Oman                        62\n",
       "Pakistan                    67\n",
       "Panama                      67\n",
       "Papua New Guinea            38\n",
       "Paraguay                    67\n",
       "Peru                        67\n",
       "Philippines                 67\n",
       "Poland                      67\n",
       "Portugal                    67\n",
       "Qatar                       42\n",
       "RUSRia                      22\n",
       "Romania                     67\n",
       "Rwanda                      54\n",
       "Saudi Arabia                67\n",
       "Senegal                     53\n",
       "Serbia                      7 \n",
       "Serbia and Montenegro       14\n",
       "Sierra Leone                52\n",
       "Singapore                   48\n",
       "Slovakia                    20\n",
       "Slovenia                    21\n",
       "Solomon Islands             35\n",
       "Somalia                     53\n",
       "South Africa                67\n",
       "South Sudan                 2 \n",
       "Spain                       67\n",
       "Sri Lanka                   65\n",
       "Sudan                       55\n",
       "Sudan, North                2 \n",
       "Suriname                    38\n",
       "Swaziland                   45\n",
       "Sweden                      67\n",
       "Switzerland                 67\n",
       "Syria                       67\n",
       "Taiwan                      64\n",
       "Tajikistan                  22\n",
       "Tanzania                    52\n",
       "Thailand                    67\n",
       "Togo                        53\n",
       "Trinidad and Tobago         51\n",
       "Tunisia                     60\n",
       "Turkey                      67\n",
       "Turkmenistan                22\n",
       "USRR (Soviet Union)         45\n",
       "Uganda                      51\n",
       "Ukraine                     22\n",
       "United Arab Emirates        42\n",
       "United Kingdom              67\n",
       "United States               67\n",
       "Uruguay                     67\n",
       "Uzbekistan                  22\n",
       "Venezuela                   67\n",
       "Vietnam                     46\n",
       "Vietnam North               1 \n",
       "Vietnam South               1 \n",
       "Vietnam, North              21\n",
       "Vietnam, South              21\n",
       "Yemen                       23\n",
       "Yemen North                 9 \n",
       "Yemen, North                36\n",
       "Yemen, South                23\n",
       "Yugoslavia                  46\n",
       "Zambia                      49\n",
       "Zimbabwe                    47\n",
       "Name: country_name, dtype: int64"
      ]
     },
     "execution_count": 18,
     "metadata": {},
     "output_type": "execute_result"
    }
   ],
   "source": [
    "df_conflict['country_name'].value_counts().sort_index()"
   ]
  },
  {
   "cell_type": "code",
   "execution_count": 20,
   "metadata": {
    "collapsed": true
   },
   "outputs": [],
   "source": [
    "df_indicators['year']=df_indicators['year'].apply(lambda x: int(x))"
   ]
  },
  {
   "cell_type": "code",
   "execution_count": 21,
   "metadata": {},
   "outputs": [
    {
     "name": "stdout",
     "output_type": "stream",
     "text": [
      "<class 'pandas.core.frame.DataFrame'>\n",
      "Int64Index: 6802 entries, 0 to 6801\n",
      "Data columns (total 43 columns):\n",
      "country_name          6802 non-null object\n",
      "country_code          6802 non-null object\n",
      "year                  6802 non-null int64\n",
      "food_index            6578 non-null float64\n",
      "gdp                   5955 non-null float64\n",
      "gdp_capita            5952 non-null float64\n",
      "rd                    895 non-null float64\n",
      "school_enroll_prep    3672 non-null float64\n",
      "school_enroll_prim    4947 non-null float64\n",
      "school_gpi            3708 non-null float64\n",
      "tax_rev               2694 non-null float64\n",
      "trade                 5920 non-null float64\n",
      "SCODE                 6802 non-null object\n",
      "CCODE                 6802 non-null int64\n",
      "IND                   6802 non-null int64\n",
      "INTIND                6799 non-null float64\n",
      "INTVIOL               6745 non-null float64\n",
      "INTWAR                6745 non-null float64\n",
      "CIVVIOL               6745 non-null float64\n",
      "CIVWAR                6745 non-null float64\n",
      "ETHVIOL               6745 non-null float64\n",
      "ETHWAR                6748 non-null float64\n",
      "INTTOT                6745 non-null float64\n",
      "CIVTOT                6748 non-null float64\n",
      "ACTOTAL               6748 non-null float64\n",
      "nBORDER               6745 non-null float64\n",
      "TOTINT                6745 non-null float64\n",
      "TOTCIV                6745 non-null float64\n",
      "TOTALAC               6745 non-null float64\n",
      "nINT                  6745 non-null float64\n",
      "nCIV                  6745 non-null float64\n",
      "nAC                   6745 non-null float64\n",
      "REGION                6745 non-null float64\n",
      "nREGION               6745 non-null float64\n",
      "REGINT                6745 non-null float64\n",
      "REGCIV                6745 non-null float64\n",
      "REGAC                 6745 non-null float64\n",
      "nRINT                 6745 non-null float64\n",
      "nRCIV                 6745 non-null float64\n",
      "nRAC                  6745 non-null float64\n",
      "NCIVLIST              3026 non-null object\n",
      "NINTLIST              750 non-null object\n",
      "NACLIST               0 non-null object\n",
      "dtypes: float64(34), int64(3), object(6)\n",
      "memory usage: 2.3+ MB\n"
     ]
    }
   ],
   "source": [
    "df_merge=pd.merge(df_indicators, df_conflict, on=['country_name','year']);\n",
    "df_merge.info()"
   ]
  },
  {
   "cell_type": "code",
   "execution_count": 22,
   "metadata": {},
   "outputs": [
    {
     "name": "stdout",
     "output_type": "stream",
     "text": [
      "<class 'pandas.core.frame.DataFrame'>\n",
      "Int64Index: 6802 entries, 0 to 6801\n",
      "Data columns (total 44 columns):\n",
      "country_name          6802 non-null object\n",
      "country_code          6802 non-null object\n",
      "year                  6802 non-null int64\n",
      "food_index            6578 non-null float64\n",
      "gdp                   5955 non-null float64\n",
      "gdp_capita            5952 non-null float64\n",
      "rd                    895 non-null float64\n",
      "school_enroll_prep    3672 non-null float64\n",
      "school_enroll_prim    4947 non-null float64\n",
      "school_gpi            3708 non-null float64\n",
      "tax_rev               2694 non-null float64\n",
      "trade                 5920 non-null float64\n",
      "SCODE                 6802 non-null object\n",
      "CCODE                 6802 non-null int64\n",
      "IND                   6802 non-null int64\n",
      "INTIND                6799 non-null float64\n",
      "INTVIOL               6745 non-null float64\n",
      "INTWAR                6745 non-null float64\n",
      "CIVVIOL               6745 non-null float64\n",
      "CIVWAR                6745 non-null float64\n",
      "ETHVIOL               6745 non-null float64\n",
      "ETHWAR                6748 non-null float64\n",
      "INTTOT                6745 non-null float64\n",
      "CIVTOT                6748 non-null float64\n",
      "ACTOTAL               6748 non-null float64\n",
      "nBORDER               6745 non-null float64\n",
      "TOTINT                6745 non-null float64\n",
      "TOTCIV                6745 non-null float64\n",
      "TOTALAC               6745 non-null float64\n",
      "nINT                  6745 non-null float64\n",
      "nCIV                  6745 non-null float64\n",
      "nAC                   6745 non-null float64\n",
      "REGION                6745 non-null float64\n",
      "nREGION               6745 non-null float64\n",
      "REGINT                6745 non-null float64\n",
      "REGCIV                6745 non-null float64\n",
      "REGAC                 6745 non-null float64\n",
      "nRINT                 6745 non-null float64\n",
      "nRCIV                 6745 non-null float64\n",
      "nRAC                  6745 non-null float64\n",
      "NCIVLIST              3026 non-null object\n",
      "NINTLIST              750 non-null object\n",
      "NACLIST               0 non-null object\n",
      "conflict              6745 non-null float64\n",
      "dtypes: float64(35), int64(3), object(6)\n",
      "memory usage: 2.3+ MB\n"
     ]
    }
   ],
   "source": [
    "df_merge['conflict']=df_merge['INTIND']+df_merge['INTVIOL']+\\\n",
    "df_merge['INTWAR']+df_merge['CIVVIOL']+df_merge['CIVWAR']+\\\n",
    "df_merge['ETHVIOL']+df_merge['ETHWAR']\n",
    "\n",
    "df_merge.info()"
   ]
  },
  {
   "cell_type": "code",
   "execution_count": 26,
   "metadata": {},
   "outputs": [
    {
     "name": "stdout",
     "output_type": "stream",
     "text": [
      "<class 'pandas.core.frame.DataFrame'>\n",
      "Int64Index: 6802 entries, 0 to 6801\n",
      "Data columns (total 12 columns):\n",
      "country_name          6802 non-null object\n",
      "country_code          6802 non-null object\n",
      "year                  6802 non-null int64\n",
      "food_index            6578 non-null float64\n",
      "gdp                   5955 non-null float64\n",
      "gdp_capita            5952 non-null float64\n",
      "rd                    895 non-null float64\n",
      "school_enroll_prep    3672 non-null float64\n",
      "school_enroll_prim    4947 non-null float64\n",
      "school_gpi            3708 non-null float64\n",
      "tax_rev               2694 non-null float64\n",
      "trade                 5920 non-null float64\n",
      "dtypes: float64(9), int64(1), object(2)\n",
      "memory usage: 690.8+ KB\n"
     ]
    }
   ],
   "source": [
    "df_merge.iloc[:,:-32].info()"
   ]
  },
  {
   "cell_type": "code",
   "execution_count": 29,
   "metadata": {},
   "outputs": [
    {
     "name": "stdout",
     "output_type": "stream",
     "text": [
      "<class 'pandas.core.frame.DataFrame'>\n",
      "Int64Index: 6802 entries, 0 to 6801\n",
      "Data columns (total 13 columns):\n",
      "country_name          6802 non-null object\n",
      "country_code          6802 non-null object\n",
      "year                  6802 non-null int64\n",
      "food_index            6578 non-null float64\n",
      "gdp                   5955 non-null float64\n",
      "gdp_capita            5952 non-null float64\n",
      "rd                    895 non-null float64\n",
      "school_enroll_prep    3672 non-null float64\n",
      "school_enroll_prim    4947 non-null float64\n",
      "school_gpi            3708 non-null float64\n",
      "tax_rev               2694 non-null float64\n",
      "trade                 5920 non-null float64\n",
      "conflict              6745 non-null float64\n",
      "dtypes: float64(10), int64(1), object(2)\n",
      "memory usage: 744.0+ KB\n"
     ]
    }
   ],
   "source": [
    "df_final=pd.concat((df_merge.iloc[:,:-32],df_merge['conflict']), axis=1)\n",
    "\n",
    "df_final.info()"
   ]
  },
  {
   "cell_type": "code",
   "execution_count": 33,
   "metadata": {},
   "outputs": [],
   "source": [
    "df_final.to_csv(path_or_buf=\"/Users/Marina/Documents/TODAY/UN_data/conflict/data.csv\", index=False)"
   ]
  },
  {
   "cell_type": "code",
   "execution_count": null,
   "metadata": {
    "collapsed": true
   },
   "outputs": [],
   "source": []
  }
 ],
 "metadata": {
  "kernelspec": {
   "display_name": "Python 3",
   "language": "python",
   "name": "python3"
  },
  "language_info": {
   "codemirror_mode": {
    "name": "ipython",
    "version": 3
   },
   "file_extension": ".py",
   "mimetype": "text/x-python",
   "name": "python",
   "nbconvert_exporter": "python",
   "pygments_lexer": "ipython3",
   "version": "3.6.3"
  }
 },
 "nbformat": 4,
 "nbformat_minor": 2
}
